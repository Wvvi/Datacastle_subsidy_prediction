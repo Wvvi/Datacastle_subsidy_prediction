{
 "cells": [
  {
   "cell_type": "code",
   "execution_count": 47,
   "metadata": {
    "collapsed": true
   },
   "outputs": [],
   "source": [
    "import pandas as pd \n",
    "import numpy as np"
   ]
  },
  {
   "cell_type": "code",
   "execution_count": 48,
   "metadata": {
    "collapsed": true
   },
   "outputs": [],
   "source": [
    "subsidy_features=pd.read_csv('input/subsidy_feature.csv')"
   ]
  },
  {
   "cell_type": "code",
   "execution_count": 49,
   "metadata": {
    "collapsed": false
   },
   "outputs": [
    {
     "data": {
      "text/html": [
       "<div>\n",
       "<table border=\"1\" class=\"dataframe\">\n",
       "  <thead>\n",
       "    <tr style=\"text-align: right;\">\n",
       "      <th></th>\n",
       "      <th>id</th>\n",
       "      <th>money</th>\n",
       "    </tr>\n",
       "  </thead>\n",
       "  <tbody>\n",
       "    <tr>\n",
       "      <th>0</th>\n",
       "      <td>0</td>\n",
       "      <td>0.0</td>\n",
       "    </tr>\n",
       "    <tr>\n",
       "      <th>1</th>\n",
       "      <td>1</td>\n",
       "      <td>0.0</td>\n",
       "    </tr>\n",
       "    <tr>\n",
       "      <th>2</th>\n",
       "      <td>8</td>\n",
       "      <td>0.0</td>\n",
       "    </tr>\n",
       "    <tr>\n",
       "      <th>3</th>\n",
       "      <td>9</td>\n",
       "      <td>0.0</td>\n",
       "    </tr>\n",
       "    <tr>\n",
       "      <th>4</th>\n",
       "      <td>10</td>\n",
       "      <td>0.0</td>\n",
       "    </tr>\n",
       "  </tbody>\n",
       "</table>\n",
       "</div>"
      ],
      "text/plain": [
       "   id  money\n",
       "0   0    0.0\n",
       "1   1    0.0\n",
       "2   8    0.0\n",
       "3   9    0.0\n",
       "4  10    0.0"
      ]
     },
     "execution_count": 49,
     "metadata": {},
     "output_type": "execute_result"
    }
   ],
   "source": [
    "subsidy_features.head()"
   ]
  },
  {
   "cell_type": "code",
   "execution_count": 50,
   "metadata": {
    "collapsed": true
   },
   "outputs": [],
   "source": [
    "score_features=pd.read_csv('input/score_features.csv')"
   ]
  },
  {
   "cell_type": "code",
   "execution_count": 51,
   "metadata": {
    "collapsed": false
   },
   "outputs": [
    {
     "data": {
      "text/html": [
       "<div>\n",
       "<table border=\"1\" class=\"dataframe\">\n",
       "  <thead>\n",
       "    <tr style=\"text-align: right;\">\n",
       "      <th></th>\n",
       "      <th>id</th>\n",
       "      <th>college</th>\n",
       "      <th>score</th>\n",
       "      <th>num</th>\n",
       "      <th>order</th>\n",
       "    </tr>\n",
       "  </thead>\n",
       "  <tbody>\n",
       "    <tr>\n",
       "      <th>0</th>\n",
       "      <td>0</td>\n",
       "      <td>9</td>\n",
       "      <td>1</td>\n",
       "      <td>2933</td>\n",
       "      <td>0.000341</td>\n",
       "    </tr>\n",
       "    <tr>\n",
       "      <th>1</th>\n",
       "      <td>1</td>\n",
       "      <td>9</td>\n",
       "      <td>2</td>\n",
       "      <td>2933</td>\n",
       "      <td>0.000682</td>\n",
       "    </tr>\n",
       "    <tr>\n",
       "      <th>2</th>\n",
       "      <td>8</td>\n",
       "      <td>6</td>\n",
       "      <td>1565</td>\n",
       "      <td>1572</td>\n",
       "      <td>0.995547</td>\n",
       "    </tr>\n",
       "    <tr>\n",
       "      <th>3</th>\n",
       "      <td>9</td>\n",
       "      <td>6</td>\n",
       "      <td>1570</td>\n",
       "      <td>1572</td>\n",
       "      <td>0.998728</td>\n",
       "    </tr>\n",
       "    <tr>\n",
       "      <th>4</th>\n",
       "      <td>10</td>\n",
       "      <td>3</td>\n",
       "      <td>1</td>\n",
       "      <td>2301</td>\n",
       "      <td>0.000435</td>\n",
       "    </tr>\n",
       "  </tbody>\n",
       "</table>\n",
       "</div>"
      ],
      "text/plain": [
       "   id  college  score   num     order\n",
       "0   0        9      1  2933  0.000341\n",
       "1   1        9      2  2933  0.000682\n",
       "2   8        6   1565  1572  0.995547\n",
       "3   9        6   1570  1572  0.998728\n",
       "4  10        3      1  2301  0.000435"
      ]
     },
     "execution_count": 51,
     "metadata": {},
     "output_type": "execute_result"
    }
   ],
   "source": [
    "score_features.head()"
   ]
  },
  {
   "cell_type": "code",
   "execution_count": 52,
   "metadata": {
    "collapsed": true
   },
   "outputs": [],
   "source": [
    "card_features=pd.read_csv('input/card_features.csv')"
   ]
  },
  {
   "cell_type": "code",
   "execution_count": 53,
   "metadata": {
    "collapsed": false
   },
   "outputs": [
    {
     "data": {
      "text/html": [
       "<div>\n",
       "<table border=\"1\" class=\"dataframe\">\n",
       "  <thead>\n",
       "    <tr style=\"text-align: right;\">\n",
       "      <th></th>\n",
       "      <th>id</th>\n",
       "      <th>consume</th>\n",
       "      <th>consumesum</th>\n",
       "      <th>consumeavg</th>\n",
       "      <th>consumemax</th>\n",
       "      <th>remaindersum</th>\n",
       "      <th>remainderavg</th>\n",
       "      <th>remaindermax</th>\n",
       "    </tr>\n",
       "  </thead>\n",
       "  <tbody>\n",
       "    <tr>\n",
       "      <th>0</th>\n",
       "      <td>0</td>\n",
       "      <td>628</td>\n",
       "      <td>4997.56</td>\n",
       "      <td>7.833166</td>\n",
       "      <td>200.0</td>\n",
       "      <td>42895.96</td>\n",
       "      <td>67.235047</td>\n",
       "      <td>228.98</td>\n",
       "    </tr>\n",
       "    <tr>\n",
       "      <th>1</th>\n",
       "      <td>1</td>\n",
       "      <td>687</td>\n",
       "      <td>6182.69</td>\n",
       "      <td>8.960420</td>\n",
       "      <td>300.0</td>\n",
       "      <td>70664.31</td>\n",
       "      <td>102.412043</td>\n",
       "      <td>302.41</td>\n",
       "    </tr>\n",
       "    <tr>\n",
       "      <th>2</th>\n",
       "      <td>6</td>\n",
       "      <td>906</td>\n",
       "      <td>6470.82</td>\n",
       "      <td>7.126454</td>\n",
       "      <td>200.0</td>\n",
       "      <td>101480.65</td>\n",
       "      <td>111.762830</td>\n",
       "      <td>378.27</td>\n",
       "    </tr>\n",
       "    <tr>\n",
       "      <th>3</th>\n",
       "      <td>7</td>\n",
       "      <td>1328</td>\n",
       "      <td>12423.77</td>\n",
       "      <td>9.292274</td>\n",
       "      <td>500.0</td>\n",
       "      <td>152957.04</td>\n",
       "      <td>114.403171</td>\n",
       "      <td>529.36</td>\n",
       "    </tr>\n",
       "    <tr>\n",
       "      <th>4</th>\n",
       "      <td>8</td>\n",
       "      <td>1330</td>\n",
       "      <td>11472.37</td>\n",
       "      <td>8.625842</td>\n",
       "      <td>200.0</td>\n",
       "      <td>117836.74</td>\n",
       "      <td>88.599053</td>\n",
       "      <td>231.26</td>\n",
       "    </tr>\n",
       "  </tbody>\n",
       "</table>\n",
       "</div>"
      ],
      "text/plain": [
       "   id  consume  consumesum  consumeavg  consumemax  remaindersum  \\\n",
       "0   0      628     4997.56    7.833166       200.0      42895.96   \n",
       "1   1      687     6182.69    8.960420       300.0      70664.31   \n",
       "2   6      906     6470.82    7.126454       200.0     101480.65   \n",
       "3   7     1328    12423.77    9.292274       500.0     152957.04   \n",
       "4   8     1330    11472.37    8.625842       200.0     117836.74   \n",
       "\n",
       "   remainderavg  remaindermax  \n",
       "0     67.235047        228.98  \n",
       "1    102.412043        302.41  \n",
       "2    111.762830        378.27  \n",
       "3    114.403171        529.36  \n",
       "4     88.599053        231.26  "
      ]
     },
     "execution_count": 53,
     "metadata": {},
     "output_type": "execute_result"
    }
   ],
   "source": [
    "card_features.head()"
   ]
  },
  {
   "cell_type": "code",
   "execution_count": 54,
   "metadata": {
    "collapsed": true
   },
   "outputs": [],
   "source": [
    "library_features=pd.read_csv('input/library_features.csv')"
   ]
  },
  {
   "cell_type": "code",
   "execution_count": 55,
   "metadata": {
    "collapsed": false
   },
   "outputs": [
    {
     "data": {
      "text/html": [
       "<div>\n",
       "<table border=\"1\" class=\"dataframe\">\n",
       "  <thead>\n",
       "    <tr style=\"text-align: right;\">\n",
       "      <th></th>\n",
       "      <th>id</th>\n",
       "      <th>lib_nums</th>\n",
       "      <th>lib_day_rate</th>\n",
       "    </tr>\n",
       "  </thead>\n",
       "  <tbody>\n",
       "    <tr>\n",
       "      <th>0</th>\n",
       "      <td>0</td>\n",
       "      <td>16</td>\n",
       "      <td>0.053333</td>\n",
       "    </tr>\n",
       "    <tr>\n",
       "      <th>1</th>\n",
       "      <td>1</td>\n",
       "      <td>2</td>\n",
       "      <td>0.006667</td>\n",
       "    </tr>\n",
       "    <tr>\n",
       "      <th>2</th>\n",
       "      <td>6</td>\n",
       "      <td>5</td>\n",
       "      <td>0.016667</td>\n",
       "    </tr>\n",
       "    <tr>\n",
       "      <th>3</th>\n",
       "      <td>7</td>\n",
       "      <td>91</td>\n",
       "      <td>0.303333</td>\n",
       "    </tr>\n",
       "    <tr>\n",
       "      <th>4</th>\n",
       "      <td>10</td>\n",
       "      <td>4</td>\n",
       "      <td>0.013333</td>\n",
       "    </tr>\n",
       "  </tbody>\n",
       "</table>\n",
       "</div>"
      ],
      "text/plain": [
       "   id  lib_nums  lib_day_rate\n",
       "0   0        16      0.053333\n",
       "1   1         2      0.006667\n",
       "2   6         5      0.016667\n",
       "3   7        91      0.303333\n",
       "4  10         4      0.013333"
      ]
     },
     "execution_count": 55,
     "metadata": {},
     "output_type": "execute_result"
    }
   ],
   "source": [
    "library_features.head()"
   ]
  },
  {
   "cell_type": "code",
   "execution_count": 56,
   "metadata": {
    "collapsed": false
   },
   "outputs": [],
   "source": [
    "dorm_features=pd.read_csv('input/dorm_features.csv')"
   ]
  },
  {
   "cell_type": "code",
   "execution_count": 57,
   "metadata": {
    "collapsed": false
   },
   "outputs": [
    {
     "data": {
      "text/html": [
       "<div>\n",
       "<table border=\"1\" class=\"dataframe\">\n",
       "  <thead>\n",
       "    <tr style=\"text-align: right;\">\n",
       "      <th></th>\n",
       "      <th>id</th>\n",
       "      <th>dor_num</th>\n",
       "      <th>dorm_day_rate</th>\n",
       "    </tr>\n",
       "  </thead>\n",
       "  <tbody>\n",
       "    <tr>\n",
       "      <th>0</th>\n",
       "      <td>0</td>\n",
       "      <td>186</td>\n",
       "      <td>0.62</td>\n",
       "    </tr>\n",
       "    <tr>\n",
       "      <th>1</th>\n",
       "      <td>1</td>\n",
       "      <td>312</td>\n",
       "      <td>1.04</td>\n",
       "    </tr>\n",
       "    <tr>\n",
       "      <th>2</th>\n",
       "      <td>6</td>\n",
       "      <td>186</td>\n",
       "      <td>0.62</td>\n",
       "    </tr>\n",
       "    <tr>\n",
       "      <th>3</th>\n",
       "      <td>7</td>\n",
       "      <td>198</td>\n",
       "      <td>0.66</td>\n",
       "    </tr>\n",
       "    <tr>\n",
       "      <th>4</th>\n",
       "      <td>10</td>\n",
       "      <td>135</td>\n",
       "      <td>0.45</td>\n",
       "    </tr>\n",
       "  </tbody>\n",
       "</table>\n",
       "</div>"
      ],
      "text/plain": [
       "   id  dor_num  dorm_day_rate\n",
       "0   0      186           0.62\n",
       "1   1      312           1.04\n",
       "2   6      186           0.62\n",
       "3   7      198           0.66\n",
       "4  10      135           0.45"
      ]
     },
     "execution_count": 57,
     "metadata": {},
     "output_type": "execute_result"
    }
   ],
   "source": [
    "dorm_features.head()"
   ]
  },
  {
   "cell_type": "code",
   "execution_count": 58,
   "metadata": {
    "collapsed": true
   },
   "outputs": [],
   "source": [
    "borrow_features=pd.read_csv('input/borrow_features.csv')"
   ]
  },
  {
   "cell_type": "code",
   "execution_count": 59,
   "metadata": {
    "collapsed": false
   },
   "outputs": [
    {
     "data": {
      "text/html": [
       "<div>\n",
       "<table border=\"1\" class=\"dataframe\">\n",
       "  <thead>\n",
       "    <tr style=\"text-align: right;\">\n",
       "      <th></th>\n",
       "      <th>id</th>\n",
       "      <th>borrow_num</th>\n",
       "      <th>borrow_rate_month</th>\n",
       "    </tr>\n",
       "  </thead>\n",
       "  <tbody>\n",
       "    <tr>\n",
       "      <th>0</th>\n",
       "      <td>6</td>\n",
       "      <td>2</td>\n",
       "      <td>0.166667</td>\n",
       "    </tr>\n",
       "    <tr>\n",
       "      <th>1</th>\n",
       "      <td>7</td>\n",
       "      <td>28</td>\n",
       "      <td>2.333333</td>\n",
       "    </tr>\n",
       "    <tr>\n",
       "      <th>2</th>\n",
       "      <td>11</td>\n",
       "      <td>4</td>\n",
       "      <td>0.333333</td>\n",
       "    </tr>\n",
       "    <tr>\n",
       "      <th>3</th>\n",
       "      <td>20</td>\n",
       "      <td>9</td>\n",
       "      <td>0.750000</td>\n",
       "    </tr>\n",
       "    <tr>\n",
       "      <th>4</th>\n",
       "      <td>22</td>\n",
       "      <td>5</td>\n",
       "      <td>0.416667</td>\n",
       "    </tr>\n",
       "  </tbody>\n",
       "</table>\n",
       "</div>"
      ],
      "text/plain": [
       "   id  borrow_num  borrow_rate_month\n",
       "0   6           2           0.166667\n",
       "1   7          28           2.333333\n",
       "2  11           4           0.333333\n",
       "3  20           9           0.750000\n",
       "4  22           5           0.416667"
      ]
     },
     "execution_count": 59,
     "metadata": {},
     "output_type": "execute_result"
    }
   ],
   "source": [
    "borrow_features.head()"
   ]
  },
  {
   "cell_type": "code",
   "execution_count": 60,
   "metadata": {
    "collapsed": true
   },
   "outputs": [],
   "source": [
    "train_test1=pd.merge(subsidy_features,score_features,how='left',on='id')"
   ]
  },
  {
   "cell_type": "code",
   "execution_count": 61,
   "metadata": {
    "collapsed": false
   },
   "outputs": [],
   "source": [
    "train_test2=pd.merge(train_test1,card_features,how='left',on='id')"
   ]
  },
  {
   "cell_type": "code",
   "execution_count": 62,
   "metadata": {
    "collapsed": false
   },
   "outputs": [],
   "source": [
    "train_test3=pd.merge(train_test2,library_features,how='left',on='id')"
   ]
  },
  {
   "cell_type": "code",
   "execution_count": 63,
   "metadata": {
    "collapsed": true
   },
   "outputs": [],
   "source": [
    "train_test4=pd.merge(train_test3,dorm_features,how='left',on='id')"
   ]
  },
  {
   "cell_type": "code",
   "execution_count": 64,
   "metadata": {
    "collapsed": true
   },
   "outputs": [],
   "source": [
    "train_test=pd.merge(train_test4,borrow_features,how='left',on='id')"
   ]
  },
  {
   "cell_type": "code",
   "execution_count": 65,
   "metadata": {
    "collapsed": false
   },
   "outputs": [
    {
     "data": {
      "text/html": [
       "<div>\n",
       "<table border=\"1\" class=\"dataframe\">\n",
       "  <thead>\n",
       "    <tr style=\"text-align: right;\">\n",
       "      <th></th>\n",
       "      <th>id</th>\n",
       "      <th>money</th>\n",
       "      <th>college</th>\n",
       "      <th>score</th>\n",
       "      <th>num</th>\n",
       "      <th>order</th>\n",
       "      <th>consume</th>\n",
       "      <th>consumesum</th>\n",
       "      <th>consumeavg</th>\n",
       "      <th>consumemax</th>\n",
       "      <th>remaindersum</th>\n",
       "      <th>remainderavg</th>\n",
       "      <th>remaindermax</th>\n",
       "      <th>lib_nums</th>\n",
       "      <th>lib_day_rate</th>\n",
       "      <th>dor_num</th>\n",
       "      <th>dorm_day_rate</th>\n",
       "      <th>borrow_num</th>\n",
       "      <th>borrow_rate_month</th>\n",
       "    </tr>\n",
       "  </thead>\n",
       "  <tbody>\n",
       "    <tr>\n",
       "      <th>0</th>\n",
       "      <td>0</td>\n",
       "      <td>0.0</td>\n",
       "      <td>9.0</td>\n",
       "      <td>1.0</td>\n",
       "      <td>2933.0</td>\n",
       "      <td>0.000341</td>\n",
       "      <td>628.0</td>\n",
       "      <td>4997.56</td>\n",
       "      <td>7.833166</td>\n",
       "      <td>200.0</td>\n",
       "      <td>42895.96</td>\n",
       "      <td>67.235047</td>\n",
       "      <td>228.98</td>\n",
       "      <td>16.0</td>\n",
       "      <td>0.053333</td>\n",
       "      <td>186.0</td>\n",
       "      <td>0.62</td>\n",
       "      <td>NaN</td>\n",
       "      <td>NaN</td>\n",
       "    </tr>\n",
       "    <tr>\n",
       "      <th>1</th>\n",
       "      <td>1</td>\n",
       "      <td>0.0</td>\n",
       "      <td>9.0</td>\n",
       "      <td>2.0</td>\n",
       "      <td>2933.0</td>\n",
       "      <td>0.000682</td>\n",
       "      <td>687.0</td>\n",
       "      <td>6182.69</td>\n",
       "      <td>8.960420</td>\n",
       "      <td>300.0</td>\n",
       "      <td>70664.31</td>\n",
       "      <td>102.412043</td>\n",
       "      <td>302.41</td>\n",
       "      <td>2.0</td>\n",
       "      <td>0.006667</td>\n",
       "      <td>312.0</td>\n",
       "      <td>1.04</td>\n",
       "      <td>NaN</td>\n",
       "      <td>NaN</td>\n",
       "    </tr>\n",
       "    <tr>\n",
       "      <th>2</th>\n",
       "      <td>8</td>\n",
       "      <td>0.0</td>\n",
       "      <td>6.0</td>\n",
       "      <td>1565.0</td>\n",
       "      <td>1572.0</td>\n",
       "      <td>0.995547</td>\n",
       "      <td>1330.0</td>\n",
       "      <td>11472.37</td>\n",
       "      <td>8.625842</td>\n",
       "      <td>200.0</td>\n",
       "      <td>117836.74</td>\n",
       "      <td>88.599053</td>\n",
       "      <td>231.26</td>\n",
       "      <td>NaN</td>\n",
       "      <td>NaN</td>\n",
       "      <td>NaN</td>\n",
       "      <td>NaN</td>\n",
       "      <td>NaN</td>\n",
       "      <td>NaN</td>\n",
       "    </tr>\n",
       "    <tr>\n",
       "      <th>3</th>\n",
       "      <td>9</td>\n",
       "      <td>0.0</td>\n",
       "      <td>6.0</td>\n",
       "      <td>1570.0</td>\n",
       "      <td>1572.0</td>\n",
       "      <td>0.998728</td>\n",
       "      <td>1618.0</td>\n",
       "      <td>14502.91</td>\n",
       "      <td>8.963480</td>\n",
       "      <td>200.0</td>\n",
       "      <td>154265.92</td>\n",
       "      <td>95.343585</td>\n",
       "      <td>237.96</td>\n",
       "      <td>NaN</td>\n",
       "      <td>NaN</td>\n",
       "      <td>NaN</td>\n",
       "      <td>NaN</td>\n",
       "      <td>NaN</td>\n",
       "      <td>NaN</td>\n",
       "    </tr>\n",
       "    <tr>\n",
       "      <th>4</th>\n",
       "      <td>10</td>\n",
       "      <td>0.0</td>\n",
       "      <td>3.0</td>\n",
       "      <td>1.0</td>\n",
       "      <td>2301.0</td>\n",
       "      <td>0.000435</td>\n",
       "      <td>847.0</td>\n",
       "      <td>6028.74</td>\n",
       "      <td>7.084301</td>\n",
       "      <td>200.0</td>\n",
       "      <td>52933.27</td>\n",
       "      <td>62.201257</td>\n",
       "      <td>210.74</td>\n",
       "      <td>4.0</td>\n",
       "      <td>0.013333</td>\n",
       "      <td>135.0</td>\n",
       "      <td>0.45</td>\n",
       "      <td>NaN</td>\n",
       "      <td>NaN</td>\n",
       "    </tr>\n",
       "  </tbody>\n",
       "</table>\n",
       "</div>"
      ],
      "text/plain": [
       "   id  money  college   score     num     order  consume  consumesum  \\\n",
       "0   0    0.0      9.0     1.0  2933.0  0.000341    628.0     4997.56   \n",
       "1   1    0.0      9.0     2.0  2933.0  0.000682    687.0     6182.69   \n",
       "2   8    0.0      6.0  1565.0  1572.0  0.995547   1330.0    11472.37   \n",
       "3   9    0.0      6.0  1570.0  1572.0  0.998728   1618.0    14502.91   \n",
       "4  10    0.0      3.0     1.0  2301.0  0.000435    847.0     6028.74   \n",
       "\n",
       "   consumeavg  consumemax  remaindersum  remainderavg  remaindermax  lib_nums  \\\n",
       "0    7.833166       200.0      42895.96     67.235047        228.98      16.0   \n",
       "1    8.960420       300.0      70664.31    102.412043        302.41       2.0   \n",
       "2    8.625842       200.0     117836.74     88.599053        231.26       NaN   \n",
       "3    8.963480       200.0     154265.92     95.343585        237.96       NaN   \n",
       "4    7.084301       200.0      52933.27     62.201257        210.74       4.0   \n",
       "\n",
       "   lib_day_rate  dor_num  dorm_day_rate  borrow_num  borrow_rate_month  \n",
       "0      0.053333    186.0           0.62         NaN                NaN  \n",
       "1      0.006667    312.0           1.04         NaN                NaN  \n",
       "2           NaN      NaN            NaN         NaN                NaN  \n",
       "3           NaN      NaN            NaN         NaN                NaN  \n",
       "4      0.013333    135.0           0.45         NaN                NaN  "
      ]
     },
     "execution_count": 65,
     "metadata": {},
     "output_type": "execute_result"
    }
   ],
   "source": [
    "train_test.head()"
   ]
  },
  {
   "cell_type": "code",
   "execution_count": 66,
   "metadata": {
    "collapsed": false
   },
   "outputs": [
    {
     "name": "stdout",
     "output_type": "stream",
     "text": [
      "<class 'pandas.core.frame.DataFrame'>\n",
      "Int64Index: 21846 entries, 0 to 21845\n",
      "Data columns (total 19 columns):\n",
      "id                   21846 non-null int64\n",
      "money                10885 non-null float64\n",
      "college              18336 non-null float64\n",
      "score                18336 non-null float64\n",
      "num                  18336 non-null float64\n",
      "order                18336 non-null float64\n",
      "consume              21806 non-null float64\n",
      "consumesum           21806 non-null float64\n",
      "consumeavg           21806 non-null float64\n",
      "consumemax           21806 non-null float64\n",
      "remaindersum         21806 non-null float64\n",
      "remainderavg         21806 non-null float64\n",
      "remaindermax         21806 non-null float64\n",
      "lib_nums             16580 non-null float64\n",
      "lib_day_rate         16580 non-null float64\n",
      "dor_num              15719 non-null float64\n",
      "dorm_day_rate        15719 non-null float64\n",
      "borrow_num           14449 non-null float64\n",
      "borrow_rate_month    14449 non-null float64\n",
      "dtypes: float64(18), int64(1)\n",
      "memory usage: 3.3 MB\n"
     ]
    }
   ],
   "source": [
    "train_test.info()"
   ]
  },
  {
   "cell_type": "code",
   "execution_count": 67,
   "metadata": {
    "collapsed": true
   },
   "outputs": [],
   "source": [
    "train_test['score']=train_test['score'].fillna(train_test['score'].mean())"
   ]
  },
  {
   "cell_type": "code",
   "execution_count": 68,
   "metadata": {
    "collapsed": true
   },
   "outputs": [],
   "source": [
    "train_test['num']=train_test['num'].fillna(train_test['num'].mean())"
   ]
  },
  {
   "cell_type": "code",
   "execution_count": 69,
   "metadata": {
    "collapsed": true
   },
   "outputs": [],
   "source": [
    "train_test['order']=train_test['order'].fillna(train_test['order'].mean())"
   ]
  },
  {
   "cell_type": "code",
   "execution_count": 70,
   "metadata": {
    "collapsed": true
   },
   "outputs": [],
   "source": [
    "train_test['consume']=train_test['consume'].fillna(train_test['consume'].mean())"
   ]
  },
  {
   "cell_type": "code",
   "execution_count": 71,
   "metadata": {
    "collapsed": true
   },
   "outputs": [],
   "source": [
    "train_test['consumesum']=train_test['consumesum'].fillna(train_test['consumesum'].mean())"
   ]
  },
  {
   "cell_type": "code",
   "execution_count": 72,
   "metadata": {
    "collapsed": true
   },
   "outputs": [],
   "source": [
    "train_test['consumeavg']=train_test['consumeavg'].fillna(train_test['consumeavg'].mean())"
   ]
  },
  {
   "cell_type": "code",
   "execution_count": 73,
   "metadata": {
    "collapsed": true
   },
   "outputs": [],
   "source": [
    "train_test['consumemax']=train_test['consumemax'].fillna(train_test['consumemax'].mean())"
   ]
  },
  {
   "cell_type": "code",
   "execution_count": 74,
   "metadata": {
    "collapsed": true
   },
   "outputs": [],
   "source": [
    "train_test['remainderavg']=train_test['remainderavg'].fillna(train_test['remainderavg'].mean())"
   ]
  },
  {
   "cell_type": "code",
   "execution_count": 75,
   "metadata": {
    "collapsed": true
   },
   "outputs": [],
   "source": [
    "train_test['remaindersum']=train_test['remaindersum'].fillna(train_test['remaindersum'].mean())"
   ]
  },
  {
   "cell_type": "code",
   "execution_count": 76,
   "metadata": {
    "collapsed": true
   },
   "outputs": [],
   "source": [
    "train_test['remaindermax']=train_test['remaindermax'].fillna(train_test['remaindermax'].mean())"
   ]
  },
  {
   "cell_type": "code",
   "execution_count": 77,
   "metadata": {
    "collapsed": true
   },
   "outputs": [],
   "source": [
    "train_test['dor_num']=train_test['dor_num'].fillna(train_test['dor_num'].mean())"
   ]
  },
  {
   "cell_type": "code",
   "execution_count": 78,
   "metadata": {
    "collapsed": true
   },
   "outputs": [],
   "source": [
    "train_test['dorm_day_rate']=train_test['dorm_day_rate'].fillna(train_test['dorm_day_rate'].mean())"
   ]
  },
  {
   "cell_type": "code",
   "execution_count": 79,
   "metadata": {
    "collapsed": true
   },
   "outputs": [],
   "source": [
    "train_test['college']=train_test['college'].fillna(method='pad')"
   ]
  },
  {
   "cell_type": "code",
   "execution_count": 81,
   "metadata": {
    "collapsed": true
   },
   "outputs": [],
   "source": [
    "train_test['lib_nums']=train_test['lib_nums'].fillna(0)"
   ]
  },
  {
   "cell_type": "code",
   "execution_count": 82,
   "metadata": {
    "collapsed": true
   },
   "outputs": [],
   "source": [
    "train_test['lib_day_rate']=train_test['lib_day_rate'].fillna(0)"
   ]
  },
  {
   "cell_type": "code",
   "execution_count": 83,
   "metadata": {
    "collapsed": true
   },
   "outputs": [],
   "source": [
    "train_test['borrow_num']=train_test['borrow_num'].fillna(0)"
   ]
  },
  {
   "cell_type": "code",
   "execution_count": 84,
   "metadata": {
    "collapsed": true
   },
   "outputs": [],
   "source": [
    "train_test['borrow_rate_month']=train_test['borrow_rate_month'].fillna(0)"
   ]
  },
  {
   "cell_type": "code",
   "execution_count": 85,
   "metadata": {
    "collapsed": false
   },
   "outputs": [
    {
     "name": "stdout",
     "output_type": "stream",
     "text": [
      "<class 'pandas.core.frame.DataFrame'>\n",
      "Int64Index: 21846 entries, 0 to 21845\n",
      "Data columns (total 19 columns):\n",
      "id                   21846 non-null int64\n",
      "money                10885 non-null float64\n",
      "college              21846 non-null float64\n",
      "score                21846 non-null float64\n",
      "num                  21846 non-null float64\n",
      "order                21846 non-null float64\n",
      "consume              21846 non-null float64\n",
      "consumesum           21846 non-null float64\n",
      "consumeavg           21846 non-null float64\n",
      "consumemax           21846 non-null float64\n",
      "remaindersum         21846 non-null float64\n",
      "remainderavg         21846 non-null float64\n",
      "remaindermax         21846 non-null float64\n",
      "lib_nums             21846 non-null float64\n",
      "lib_day_rate         21846 non-null float64\n",
      "dor_num              21846 non-null float64\n",
      "dorm_day_rate        21846 non-null float64\n",
      "borrow_num           21846 non-null float64\n",
      "borrow_rate_month    21846 non-null float64\n",
      "dtypes: float64(18), int64(1)\n",
      "memory usage: 3.3 MB\n"
     ]
    }
   ],
   "source": [
    "train_test.info()"
   ]
  },
  {
   "cell_type": "code",
   "execution_count": 86,
   "metadata": {
    "collapsed": true
   },
   "outputs": [],
   "source": [
    "train_test.to_csv('input/all_features.csv',index=False)"
   ]
  },
  {
   "cell_type": "code",
   "execution_count": 87,
   "metadata": {
    "collapsed": true
   },
   "outputs": [],
   "source": [
    "all_features=pd.read_csv('input/all_features.csv')"
   ]
  },
  {
   "cell_type": "code",
   "execution_count": 88,
   "metadata": {
    "collapsed": false
   },
   "outputs": [
    {
     "data": {
      "text/html": [
       "<div>\n",
       "<table border=\"1\" class=\"dataframe\">\n",
       "  <thead>\n",
       "    <tr style=\"text-align: right;\">\n",
       "      <th></th>\n",
       "      <th>id</th>\n",
       "      <th>money</th>\n",
       "      <th>college</th>\n",
       "      <th>score</th>\n",
       "      <th>num</th>\n",
       "      <th>order</th>\n",
       "      <th>consume</th>\n",
       "      <th>consumesum</th>\n",
       "      <th>consumeavg</th>\n",
       "      <th>consumemax</th>\n",
       "      <th>remaindersum</th>\n",
       "      <th>remainderavg</th>\n",
       "      <th>remaindermax</th>\n",
       "      <th>lib_nums</th>\n",
       "      <th>lib_day_rate</th>\n",
       "      <th>dor_num</th>\n",
       "      <th>dorm_day_rate</th>\n",
       "      <th>borrow_num</th>\n",
       "      <th>borrow_rate_month</th>\n",
       "    </tr>\n",
       "  </thead>\n",
       "  <tbody>\n",
       "    <tr>\n",
       "      <th>0</th>\n",
       "      <td>0</td>\n",
       "      <td>0.0</td>\n",
       "      <td>9.0</td>\n",
       "      <td>1.0</td>\n",
       "      <td>2933.0</td>\n",
       "      <td>0.000341</td>\n",
       "      <td>628.0</td>\n",
       "      <td>4997.56</td>\n",
       "      <td>7.833166</td>\n",
       "      <td>200.0</td>\n",
       "      <td>42895.96</td>\n",
       "      <td>67.235047</td>\n",
       "      <td>228.98</td>\n",
       "      <td>16.0</td>\n",
       "      <td>0.053333</td>\n",
       "      <td>186.000000</td>\n",
       "      <td>0.620000</td>\n",
       "      <td>0.0</td>\n",
       "      <td>0.0</td>\n",
       "    </tr>\n",
       "    <tr>\n",
       "      <th>1</th>\n",
       "      <td>1</td>\n",
       "      <td>0.0</td>\n",
       "      <td>9.0</td>\n",
       "      <td>2.0</td>\n",
       "      <td>2933.0</td>\n",
       "      <td>0.000682</td>\n",
       "      <td>687.0</td>\n",
       "      <td>6182.69</td>\n",
       "      <td>8.960420</td>\n",
       "      <td>300.0</td>\n",
       "      <td>70664.31</td>\n",
       "      <td>102.412043</td>\n",
       "      <td>302.41</td>\n",
       "      <td>2.0</td>\n",
       "      <td>0.006667</td>\n",
       "      <td>312.000000</td>\n",
       "      <td>1.040000</td>\n",
       "      <td>0.0</td>\n",
       "      <td>0.0</td>\n",
       "    </tr>\n",
       "    <tr>\n",
       "      <th>2</th>\n",
       "      <td>8</td>\n",
       "      <td>0.0</td>\n",
       "      <td>6.0</td>\n",
       "      <td>1565.0</td>\n",
       "      <td>1572.0</td>\n",
       "      <td>0.995547</td>\n",
       "      <td>1330.0</td>\n",
       "      <td>11472.37</td>\n",
       "      <td>8.625842</td>\n",
       "      <td>200.0</td>\n",
       "      <td>117836.74</td>\n",
       "      <td>88.599053</td>\n",
       "      <td>231.26</td>\n",
       "      <td>0.0</td>\n",
       "      <td>0.000000</td>\n",
       "      <td>270.726573</td>\n",
       "      <td>0.902422</td>\n",
       "      <td>0.0</td>\n",
       "      <td>0.0</td>\n",
       "    </tr>\n",
       "    <tr>\n",
       "      <th>3</th>\n",
       "      <td>9</td>\n",
       "      <td>0.0</td>\n",
       "      <td>6.0</td>\n",
       "      <td>1570.0</td>\n",
       "      <td>1572.0</td>\n",
       "      <td>0.998728</td>\n",
       "      <td>1618.0</td>\n",
       "      <td>14502.91</td>\n",
       "      <td>8.963480</td>\n",
       "      <td>200.0</td>\n",
       "      <td>154265.92</td>\n",
       "      <td>95.343585</td>\n",
       "      <td>237.96</td>\n",
       "      <td>0.0</td>\n",
       "      <td>0.000000</td>\n",
       "      <td>270.726573</td>\n",
       "      <td>0.902422</td>\n",
       "      <td>0.0</td>\n",
       "      <td>0.0</td>\n",
       "    </tr>\n",
       "    <tr>\n",
       "      <th>4</th>\n",
       "      <td>10</td>\n",
       "      <td>0.0</td>\n",
       "      <td>3.0</td>\n",
       "      <td>1.0</td>\n",
       "      <td>2301.0</td>\n",
       "      <td>0.000435</td>\n",
       "      <td>847.0</td>\n",
       "      <td>6028.74</td>\n",
       "      <td>7.084301</td>\n",
       "      <td>200.0</td>\n",
       "      <td>52933.27</td>\n",
       "      <td>62.201257</td>\n",
       "      <td>210.74</td>\n",
       "      <td>4.0</td>\n",
       "      <td>0.013333</td>\n",
       "      <td>135.000000</td>\n",
       "      <td>0.450000</td>\n",
       "      <td>0.0</td>\n",
       "      <td>0.0</td>\n",
       "    </tr>\n",
       "  </tbody>\n",
       "</table>\n",
       "</div>"
      ],
      "text/plain": [
       "   id  money  college   score     num     order  consume  consumesum  \\\n",
       "0   0    0.0      9.0     1.0  2933.0  0.000341    628.0     4997.56   \n",
       "1   1    0.0      9.0     2.0  2933.0  0.000682    687.0     6182.69   \n",
       "2   8    0.0      6.0  1565.0  1572.0  0.995547   1330.0    11472.37   \n",
       "3   9    0.0      6.0  1570.0  1572.0  0.998728   1618.0    14502.91   \n",
       "4  10    0.0      3.0     1.0  2301.0  0.000435    847.0     6028.74   \n",
       "\n",
       "   consumeavg  consumemax  remaindersum  remainderavg  remaindermax  lib_nums  \\\n",
       "0    7.833166       200.0      42895.96     67.235047        228.98      16.0   \n",
       "1    8.960420       300.0      70664.31    102.412043        302.41       2.0   \n",
       "2    8.625842       200.0     117836.74     88.599053        231.26       0.0   \n",
       "3    8.963480       200.0     154265.92     95.343585        237.96       0.0   \n",
       "4    7.084301       200.0      52933.27     62.201257        210.74       4.0   \n",
       "\n",
       "   lib_day_rate     dor_num  dorm_day_rate  borrow_num  borrow_rate_month  \n",
       "0      0.053333  186.000000       0.620000         0.0                0.0  \n",
       "1      0.006667  312.000000       1.040000         0.0                0.0  \n",
       "2      0.000000  270.726573       0.902422         0.0                0.0  \n",
       "3      0.000000  270.726573       0.902422         0.0                0.0  \n",
       "4      0.013333  135.000000       0.450000         0.0                0.0  "
      ]
     },
     "execution_count": 88,
     "metadata": {},
     "output_type": "execute_result"
    }
   ],
   "source": [
    "all_features.head()"
   ]
  },
  {
   "cell_type": "code",
   "execution_count": null,
   "metadata": {
    "collapsed": true
   },
   "outputs": [],
   "source": []
  }
 ],
 "metadata": {
  "kernelspec": {
   "display_name": "Python [py2]",
   "language": "python",
   "name": "Python [py2]"
  },
  "language_info": {
   "codemirror_mode": {
    "name": "ipython",
    "version": 2
   },
   "file_extension": ".py",
   "mimetype": "text/x-python",
   "name": "python",
   "nbconvert_exporter": "python",
   "pygments_lexer": "ipython2",
   "version": "2.7.12"
  }
 },
 "nbformat": 4,
 "nbformat_minor": 0
}
