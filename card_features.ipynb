{
 "cells": [
  {
   "cell_type": "code",
   "execution_count": 37,
   "metadata": {
    "collapsed": true
   },
   "outputs": [],
   "source": [
    "import numpy as np\n",
    "import pandas as pd"
   ]
  },
  {
   "cell_type": "code",
   "execution_count": 38,
   "metadata": {
    "collapsed": true
   },
   "outputs": [],
   "source": [
    "card_train_name=['id','consume','where','how','time','amount','remainder']"
   ]
  },
  {
   "cell_type": "code",
   "execution_count": 39,
   "metadata": {
    "collapsed": true
   },
   "outputs": [],
   "source": [
    "card_train=pd.read_table('train/card_train.txt',sep=',',header=None,names=card_train_name)"
   ]
  },
  {
   "cell_type": "code",
   "execution_count": 40,
   "metadata": {
    "collapsed": true
   },
   "outputs": [],
   "source": [
    "card_test_name=['id','consume','where','how','time','amount','remainder']"
   ]
  },
  {
   "cell_type": "code",
   "execution_count": 41,
   "metadata": {
    "collapsed": true
   },
   "outputs": [],
   "source": [
    "card_test=pd.read_table('final_test/card_final_test.txt',sep=',',header=None,names=card_test_name)"
   ]
  },
  {
   "cell_type": "code",
   "execution_count": 42,
   "metadata": {
    "collapsed": true
   },
   "outputs": [],
   "source": [
    "card_train_test=pd.concat([card_train,card_test])"
   ]
  },
  {
   "cell_type": "code",
   "execution_count": 43,
   "metadata": {
    "collapsed": false
   },
   "outputs": [
    {
     "data": {
      "text/html": [
       "<div>\n",
       "<table border=\"1\" class=\"dataframe\">\n",
       "  <thead>\n",
       "    <tr style=\"text-align: right;\">\n",
       "      <th></th>\n",
       "      <th>id</th>\n",
       "      <th>consume</th>\n",
       "      <th>where</th>\n",
       "      <th>how</th>\n",
       "      <th>time</th>\n",
       "      <th>amount</th>\n",
       "      <th>remainder</th>\n",
       "    </tr>\n",
       "  </thead>\n",
       "  <tbody>\n",
       "    <tr>\n",
       "      <th>0</th>\n",
       "      <td>1006</td>\n",
       "      <td>POS消费</td>\n",
       "      <td>地点551</td>\n",
       "      <td>淋浴</td>\n",
       "      <td>2013/09/01 00:00:32</td>\n",
       "      <td>0.50</td>\n",
       "      <td>124.90</td>\n",
       "    </tr>\n",
       "    <tr>\n",
       "      <th>1</th>\n",
       "      <td>1006</td>\n",
       "      <td>POS消费</td>\n",
       "      <td>地点551</td>\n",
       "      <td>淋浴</td>\n",
       "      <td>2013/09/01 00:00:32</td>\n",
       "      <td>0.50</td>\n",
       "      <td>124.90</td>\n",
       "    </tr>\n",
       "    <tr>\n",
       "      <th>2</th>\n",
       "      <td>1968</td>\n",
       "      <td>POS消费</td>\n",
       "      <td>地点159</td>\n",
       "      <td>淋浴</td>\n",
       "      <td>2013/09/01 00:00:39</td>\n",
       "      <td>0.10</td>\n",
       "      <td>200.14</td>\n",
       "    </tr>\n",
       "    <tr>\n",
       "      <th>3</th>\n",
       "      <td>1968</td>\n",
       "      <td>POS消费</td>\n",
       "      <td>地点159</td>\n",
       "      <td>淋浴</td>\n",
       "      <td>2013/09/01 00:00:39</td>\n",
       "      <td>0.10</td>\n",
       "      <td>200.14</td>\n",
       "    </tr>\n",
       "    <tr>\n",
       "      <th>4</th>\n",
       "      <td>1406</td>\n",
       "      <td>POS消费</td>\n",
       "      <td>地点660</td>\n",
       "      <td>开水</td>\n",
       "      <td>2013/09/01 00:00:40</td>\n",
       "      <td>0.01</td>\n",
       "      <td>374.42</td>\n",
       "    </tr>\n",
       "  </tbody>\n",
       "</table>\n",
       "</div>"
      ],
      "text/plain": [
       "     id consume  where how                 time  amount  remainder\n",
       "0  1006   POS消费  地点551  淋浴  2013/09/01 00:00:32    0.50     124.90\n",
       "1  1006   POS消费  地点551  淋浴  2013/09/01 00:00:32    0.50     124.90\n",
       "2  1968   POS消费  地点159  淋浴  2013/09/01 00:00:39    0.10     200.14\n",
       "3  1968   POS消费  地点159  淋浴  2013/09/01 00:00:39    0.10     200.14\n",
       "4  1406   POS消费  地点660  开水  2013/09/01 00:00:40    0.01     374.42"
      ]
     },
     "execution_count": 43,
     "metadata": {},
     "output_type": "execute_result"
    }
   ],
   "source": [
    "card_train_test.head()"
   ]
  },
  {
   "cell_type": "code",
   "execution_count": 44,
   "metadata": {
    "collapsed": true
   },
   "outputs": [],
   "source": [
    "card=pd.DataFrame(card_train_test.groupby('id')['consume'].count())"
   ]
  },
  {
   "cell_type": "code",
   "execution_count": 45,
   "metadata": {
    "collapsed": true
   },
   "outputs": [],
   "source": [
    "card['consumesum']=card_train_test.groupby('id')['amount'].sum()"
   ]
  },
  {
   "cell_type": "code",
   "execution_count": 46,
   "metadata": {
    "collapsed": true
   },
   "outputs": [],
   "source": [
    "card['consumeavg'] = card_train_test.groupby(['id'])['amount'].mean()"
   ]
  },
  {
   "cell_type": "code",
   "execution_count": 47,
   "metadata": {
    "collapsed": true
   },
   "outputs": [],
   "source": [
    "card['consumemax'] = card_train_test.groupby(['id'])['amount'].max()"
   ]
  },
  {
   "cell_type": "code",
   "execution_count": 48,
   "metadata": {
    "collapsed": true
   },
   "outputs": [],
   "source": [
    "card['remaindersum'] = card_train_test.groupby(['id'])['remainder'].sum()"
   ]
  },
  {
   "cell_type": "code",
   "execution_count": 49,
   "metadata": {
    "collapsed": true
   },
   "outputs": [],
   "source": [
    "card['remainderavg'] = card_train_test.groupby(['id'])['remainder'].mean()"
   ]
  },
  {
   "cell_type": "code",
   "execution_count": 50,
   "metadata": {
    "collapsed": true
   },
   "outputs": [],
   "source": [
    "card['remaindermax'] = card_train_test.groupby(['id'])['remainder'].max()"
   ]
  },
  {
   "cell_type": "code",
   "execution_count": 51,
   "metadata": {
    "collapsed": true
   },
   "outputs": [],
   "source": [
    "card.to_csv('input/card_features.csv',index=True)"
   ]
  },
  {
   "cell_type": "code",
   "execution_count": 52,
   "metadata": {
    "collapsed": false
   },
   "outputs": [],
   "source": [
    "card_features=pd.read_csv('input/card_features.csv')"
   ]
  },
  {
   "cell_type": "code",
   "execution_count": 54,
   "metadata": {
    "collapsed": false
   },
   "outputs": [
    {
     "data": {
      "text/html": [
       "<div>\n",
       "<table border=\"1\" class=\"dataframe\">\n",
       "  <thead>\n",
       "    <tr style=\"text-align: right;\">\n",
       "      <th></th>\n",
       "      <th>id</th>\n",
       "      <th>consume</th>\n",
       "      <th>consumesum</th>\n",
       "      <th>consumeavg</th>\n",
       "      <th>consumemax</th>\n",
       "      <th>remaindersum</th>\n",
       "      <th>remainderavg</th>\n",
       "      <th>remaindermax</th>\n",
       "    </tr>\n",
       "  </thead>\n",
       "  <tbody>\n",
       "    <tr>\n",
       "      <th>0</th>\n",
       "      <td>0</td>\n",
       "      <td>628</td>\n",
       "      <td>4997.56</td>\n",
       "      <td>7.833166</td>\n",
       "      <td>200.0</td>\n",
       "      <td>42895.96</td>\n",
       "      <td>67.235047</td>\n",
       "      <td>228.98</td>\n",
       "    </tr>\n",
       "    <tr>\n",
       "      <th>1</th>\n",
       "      <td>1</td>\n",
       "      <td>687</td>\n",
       "      <td>6182.69</td>\n",
       "      <td>8.960420</td>\n",
       "      <td>300.0</td>\n",
       "      <td>70664.31</td>\n",
       "      <td>102.412043</td>\n",
       "      <td>302.41</td>\n",
       "    </tr>\n",
       "    <tr>\n",
       "      <th>2</th>\n",
       "      <td>6</td>\n",
       "      <td>906</td>\n",
       "      <td>6470.82</td>\n",
       "      <td>7.126454</td>\n",
       "      <td>200.0</td>\n",
       "      <td>101480.65</td>\n",
       "      <td>111.762830</td>\n",
       "      <td>378.27</td>\n",
       "    </tr>\n",
       "    <tr>\n",
       "      <th>3</th>\n",
       "      <td>7</td>\n",
       "      <td>1328</td>\n",
       "      <td>12423.77</td>\n",
       "      <td>9.292274</td>\n",
       "      <td>500.0</td>\n",
       "      <td>152957.04</td>\n",
       "      <td>114.403171</td>\n",
       "      <td>529.36</td>\n",
       "    </tr>\n",
       "    <tr>\n",
       "      <th>4</th>\n",
       "      <td>8</td>\n",
       "      <td>1330</td>\n",
       "      <td>11472.37</td>\n",
       "      <td>8.625842</td>\n",
       "      <td>200.0</td>\n",
       "      <td>117836.74</td>\n",
       "      <td>88.599053</td>\n",
       "      <td>231.26</td>\n",
       "    </tr>\n",
       "  </tbody>\n",
       "</table>\n",
       "</div>"
      ],
      "text/plain": [
       "   id  consume  consumesum  consumeavg  consumemax  remaindersum  \\\n",
       "0   0      628     4997.56    7.833166       200.0      42895.96   \n",
       "1   1      687     6182.69    8.960420       300.0      70664.31   \n",
       "2   6      906     6470.82    7.126454       200.0     101480.65   \n",
       "3   7     1328    12423.77    9.292274       500.0     152957.04   \n",
       "4   8     1330    11472.37    8.625842       200.0     117836.74   \n",
       "\n",
       "   remainderavg  remaindermax  \n",
       "0     67.235047        228.98  \n",
       "1    102.412043        302.41  \n",
       "2    111.762830        378.27  \n",
       "3    114.403171        529.36  \n",
       "4     88.599053        231.26  "
      ]
     },
     "execution_count": 54,
     "metadata": {},
     "output_type": "execute_result"
    }
   ],
   "source": [
    "card_features.head()"
   ]
  },
  {
   "cell_type": "code",
   "execution_count": null,
   "metadata": {
    "collapsed": true
   },
   "outputs": [],
   "source": []
  }
 ],
 "metadata": {
  "kernelspec": {
   "display_name": "Python [py2]",
   "language": "python",
   "name": "Python [py2]"
  },
  "language_info": {
   "codemirror_mode": {
    "name": "ipython",
    "version": 2
   },
   "file_extension": ".py",
   "mimetype": "text/x-python",
   "name": "python",
   "nbconvert_exporter": "python",
   "pygments_lexer": "ipython2",
   "version": "2.7.12"
  }
 },
 "nbformat": 4,
 "nbformat_minor": 0
}
